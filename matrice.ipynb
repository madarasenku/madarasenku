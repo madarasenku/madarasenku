{
 "cells": [
  {
   "cell_type": "code",
   "execution_count": 2,
   "id": "a6fda402",
   "metadata": {
    "scrolled": false
   },
   "outputs": [
    {
     "name": "stdout",
     "output_type": "stream",
     "text": [
      "[[1 5 8]\n",
      " [6 7 3]\n",
      " [4 6 2]]\n"
     ]
    }
   ],
   "source": [
    "#1 créer une matrice de 3 lignes et 3 colonnes qui contient les valeurs (1,5,8,6,7,3,4,6,2).\n",
    "\n",
    "import numpy as np\n",
    "s = np.array([[1,5,8],[6,7,3],[4,6,2]])\n",
    "print(s)"
   ]
  },
  {
   "cell_type": "code",
   "execution_count": 4,
   "id": "93016b4e",
   "metadata": {},
   "outputs": [
    {
     "name": "stdout",
     "output_type": "stream",
     "text": [
      "[[0. 0. 0. 0.]\n",
      " [0. 0. 0. 0.]\n",
      " [0. 0. 0. 0.]]\n"
     ]
    }
   ],
   "source": [
    "#2 créer une matrice de 3 lignes et 4 colonnes remplie de 0.\n",
    "\n",
    "import numpy as np\n",
    "s = np.zeros((3,4))\n",
    "print(s)"
   ]
  },
  {
   "cell_type": "code",
   "execution_count": 5,
   "id": "ed52871c",
   "metadata": {},
   "outputs": [
    {
     "name": "stdout",
     "output_type": "stream",
     "text": [
      "[[1. 1. 1. 1.]\n",
      " [1. 1. 1. 1.]\n",
      " [1. 1. 1. 1.]]\n"
     ]
    }
   ],
   "source": [
    "#3 créer une matrice de 3 lignes et 4 colonnes remplie de 1.\n",
    "\n",
    "import numpy as np\n",
    "s = np.ones((3,4))\n",
    "print(s)"
   ]
  },
  {
   "cell_type": "code",
   "execution_count": 15,
   "id": "f3c462bc",
   "metadata": {},
   "outputs": [
    {
     "name": "stdout",
     "output_type": "stream",
     "text": [
      "[[5.2 5.2 5.2 5.2]\n",
      " [5.2 5.2 5.2 5.2]\n",
      " [5.2 5.2 5.2 5.2]]\n"
     ]
    }
   ],
   "source": [
    "#4 créer une matrice de 3 lignes et 4 colonnes remplie de 5.2.\n",
    "\n",
    "import numpy as np\n",
    "\n",
    "s = np.full((3,4),5.2)\n",
    "print(s)"
   ]
  },
  {
   "cell_type": "code",
   "execution_count": 12,
   "id": "25bf539e",
   "metadata": {},
   "outputs": [
    {
     "name": "stdout",
     "output_type": "stream",
     "text": [
      "[[1. 0. 0.]\n",
      " [0. 1. 0.]\n",
      " [0. 0. 1.]]\n"
     ]
    }
   ],
   "source": [
    "#5 créer une matrice identitatire de 3 lignes et 3 colonnes.\n",
    "\n",
    "import numpy as np\n",
    "s = np.identity((3))\n",
    "print(s)"
   ]
  },
  {
   "cell_type": "code",
   "execution_count": 14,
   "id": "e2560d55",
   "metadata": {},
   "outputs": [
    {
     "name": "stdout",
     "output_type": "stream",
     "text": [
      "[[5.2 5.2 5.2 5.2]\n",
      " [5.2 5.2 5.2 5.2]\n",
      " [5.2 5.2 5.2 5.2]]\n"
     ]
    }
   ],
   "source": [
    "#6 créer une matrice de 3 lignes et 4 colonnes remplie de 5.2.\n",
    "\n",
    "import numpy as np\n",
    "\n",
    "s = np.full((3,4),5.2)\n",
    "print(s)"
   ]
  },
  {
   "cell_type": "code",
   "execution_count": 25,
   "id": "2437e875",
   "metadata": {},
   "outputs": [
    {
     "name": "stdout",
     "output_type": "stream",
     "text": [
      "[9 1 8 9 7 3 5 8 3]\n",
      "[[9 1 8]\n",
      " [9 7 3]\n",
      " [5 8 3]]\n",
      "[[9]\n",
      " [1]\n",
      " [8]\n",
      " [9]\n",
      " [7]\n",
      " [3]\n",
      " [5]\n",
      " [8]\n",
      " [3]]\n",
      "[[1 0 1]\n",
      " [1 1 0]\n",
      " [1 1 0]]\n"
     ]
    }
   ],
   "source": [
    "#7,8,9,10 créer un tableau à une dimension remplie de 10 valeurs aléatoires comprises entre 0 et 9.\n",
    "\n",
    "import numpy as np\n",
    "s = np.random.randint(10,size=(9))\n",
    "print(s)\n",
    "\n",
    "m = np.reshape(s,(3,3))\n",
    "print(m)\n",
    "\n",
    "l = np.reshape(m,(9,1))\n",
    "print(l)\n",
    " \n",
    "m[(m<5)]=0\n",
    "m[(m>=5)]=1\n",
    "print(m)\n"
   ]
  },
  {
   "cell_type": "code",
   "execution_count": null,
   "id": "d0895cc4",
   "metadata": {},
   "outputs": [],
   "source": []
  }
 ],
 "metadata": {
  "kernelspec": {
   "display_name": "Python 3",
   "language": "python",
   "name": "python3"
  },
  "language_info": {
   "codemirror_mode": {
    "name": "ipython",
    "version": 3
   },
   "file_extension": ".py",
   "mimetype": "text/x-python",
   "name": "python",
   "nbconvert_exporter": "python",
   "pygments_lexer": "ipython3",
   "version": "3.8.8"
  }
 },
 "nbformat": 4,
 "nbformat_minor": 5
}
