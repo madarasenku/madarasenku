{
 "cells": [
  {
   "cell_type": "code",
   "execution_count": 6,
   "id": "c89a019d",
   "metadata": {},
   "outputs": [
    {
     "name": "stdout",
     "output_type": "stream",
     "text": [
      "Entrez votre poids en kg : 65\n",
      "Entrez votre taille en m : 1.75\n",
      "Vous avez une corpulence normale.\n",
      "Vous avez une corpulence normale.\n",
      "votre imc est :  21.22\n"
     ]
    }
   ],
   "source": [
    "#exercie 1.1\n",
    "\n",
    "masseCorporelle = float(input(\"Entrez votre poids en kg : \"))\n",
    "tailleMetre = float(input(\"Entrez votre taille en m : \"))\n",
    "\n",
    "def imc(masse,taille):\n",
    "    imc = masse/(taille**2)\n",
    "    if imc>25.0:\n",
    "        print(\"Vous êtes en surpoids.\")\n",
    "    elif imc<18.5:\n",
    "        print(\"Voues êtes trop maigre.\")\n",
    "    else:\n",
    "        print(\"Vous avez une corpulence normale.\")\n",
    "        return imc\n",
    "imc(masseCorporelle,tailleMetre)\n",
    "print(\"votre imc est : \",round(imc(masseCorporelle,tailleMetre), 2))"
   ]
  },
  {
   "cell_type": "code",
   "execution_count": 3,
   "id": "cc639f5d",
   "metadata": {},
   "outputs": [
    {
     "name": "stdout",
     "output_type": "stream",
     "text": [
      "veuiller entrer votre note au bac : 15\n",
      "vous êtes admis au bac avec la mention bien\n"
     ]
    },
    {
     "data": {
      "text/plain": [
       "15.0"
      ]
     },
     "execution_count": 3,
     "metadata": {},
     "output_type": "execute_result"
    }
   ],
   "source": [
    "#exercice 1.2\n",
    "\n",
    "note = float(input(\"veuiller entrer votre note au bac : \"))\n",
    "def bac(x):\n",
    "    if x < 10:\n",
    "        print(\"désolé mais vous êtes recalé\")\n",
    "    elif 10 <= x < 12:\n",
    "        print(\"vous êtes admis au bac avec la mention passable\")\n",
    "    elif 12 <= x < 14:\n",
    "        print(\"vous êtes admis au bac avec la mention assez-bien\")\n",
    "    elif 14 <= x < 16:\n",
    "        print(\"vous êtes admis au bac avec la mention bien\")\n",
    "    return x\n",
    "bac(note)\n",
    "        "
   ]
  },
  {
   "cell_type": "code",
   "execution_count": 4,
   "id": "2b174fd5",
   "metadata": {},
   "outputs": [
    {
     "name": "stdout",
     "output_type": "stream",
     "text": [
      "entrez le rayon de votre cercle en cm : 2\n",
      "l'aire du cercle est donc :  12.57 cm²\n"
     ]
    }
   ],
   "source": [
    "#exercie 1.3 \n",
    "\n",
    "R = float(input(\"entrez le rayon de votre cercle en cm : \"))\n",
    "\n",
    "import math\n",
    "a= math.pi\n",
    "\n",
    "def rayon(X):\n",
    "    X = a * (R**2)\n",
    "    return X\n",
    "rayon(R)\n",
    "print (\"l'aire du cercle est donc : \",round(rayon(R),2),\"cm²\")"
   ]
  },
  {
   "cell_type": "code",
   "execution_count": null,
   "id": "ae9c9a89",
   "metadata": {},
   "outputs": [],
   "source": []
  }
 ],
 "metadata": {
  "interpreter": {
   "hash": "d05ed56167a4b79b4f0427eced5334e52cd19754488e0030c9dd116d98a61209"
  },
  "kernelspec": {
   "display_name": "Python 3",
   "language": "python",
   "name": "python3"
  },
  "language_info": {
   "codemirror_mode": {
    "name": "ipython",
    "version": 3
   },
   "file_extension": ".py",
   "mimetype": "text/x-python",
   "name": "python",
   "nbconvert_exporter": "python",
   "pygments_lexer": "ipython3",
   "version": "3.8.8"
  }
 },
 "nbformat": 4,
 "nbformat_minor": 5
}
