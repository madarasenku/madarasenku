{
 "cells": [
  {
   "cell_type": "code",
   "execution_count": 2,
   "id": "5f20fe4d",
   "metadata": {},
   "outputs": [
    {
     "name": "stdout",
     "output_type": "stream",
     "text": [
      "veuillez entrer un nombre : 25\n",
      "25 ! est égal à : 15511210043330985984000000\n"
     ]
    },
    {
     "data": {
      "text/plain": [
       "15511210043330985984000000"
      ]
     },
     "execution_count": 2,
     "metadata": {},
     "output_type": "execute_result"
    }
   ],
   "source": [
    "#exercice 1.1\n",
    "N = int(input('veuillez entrer un nombre : '))\n",
    "\n",
    "def fact(x):\n",
    "    fact = 1\n",
    "    for i in range(1,x+1):\n",
    "        fact *=i\n",
    "    print (x,\"! est égal à :\" , fact)\n",
    "    return fact\n",
    "fact(N)"
   ]
  },
  {
   "cell_type": "code",
   "execution_count": 1,
   "id": "67ac4dce",
   "metadata": {},
   "outputs": [
    {
     "name": "stdout",
     "output_type": "stream",
     "text": [
      "veuillez entrer un nombre : 5\n",
      "la liste des nombres impairs entre 0 et  5 est  [1, 3]\n"
     ]
    },
    {
     "data": {
      "text/plain": [
       "[1, 3]"
      ]
     },
     "execution_count": 1,
     "metadata": {},
     "output_type": "execute_result"
    }
   ],
   "source": [
    "#exercice 1.2\n",
    "N = int(input('veuillez entrer un nombre : '))\n",
    "\n",
    "def impair(N):\n",
    "    a = 0\n",
    "    liste = []\n",
    "    while a <N :\n",
    "        if((a%2)!=0):\n",
    "            liste.append(a)\n",
    "        a += 1 #Il est dans la boucle while, donc après chaque vérification on incrémente a de sorte de la valeur de a augmente, jusqu'à à être supérieure à N pour quitter la boucle, sinon si a n'augmente pas on va répéter à l'infini du fait de la condition a<N\n",
    "    print(\"la liste des nombres impairs entre 0 et \",N,\"est \" , liste)\n",
    "    return liste\n",
    "impair(N)"
   ]
  },
  {
   "cell_type": "code",
   "execution_count": 26,
   "id": "7e143b11",
   "metadata": {},
   "outputs": [
    {
     "name": "stdout",
     "output_type": "stream",
     "text": [
      "la liste triée est : [10, 17, 25, 38, 72]\n",
      "on ajoute 12 et on obtient :  [10, 17, 25, 38, 72, 12]\n",
      "Liste triée (par ordre décroissant): [72, 38, 25, 17, 12, 10]\n",
      "le nombre d'élément de la liste est :  6\n",
      "la liste sans l'élément 38 est :  [72, 25, 17, 12, 10]\n",
      "la sous-liste du 2eme au 3eme élement est :  [25, 17]\n",
      "la sous-liste du debut au 2eme élement est :  [72, 25]\n",
      "la sous-liste du 3eme élément à la fin de la liste est :  [17, 12, 10]\n"
     ]
    }
   ],
   "source": [
    "#exercie 1.3\n",
    "liste = [17,38,10,25,72]\n",
    "liste.sort()\n",
    "print(\"la liste triée est :\", liste)\n",
    "\n",
    "liste.append(12)\n",
    "print(\"on ajoute 12 et on obtient : \",liste)\n",
    "\n",
    "liste.sort(reverse=True)\n",
    "print('Liste triée (par ordre décroissant):',liste)\n",
    "\n",
    "print(\"le nombre d'élément de la liste est : \",len(liste))\n",
    "\n",
    "liste.remove(38)\n",
    "print(\"la liste sans l'élément 38 est : \",liste)\n",
    "\n",
    "print(\"la sous-liste du 2eme au 3eme élement est : \",liste[1:3])\n",
    "\n",
    "print(\"la sous-liste du debut au 2eme élement est : \",liste[:2])\n",
    "\n",
    "print(\"la sous-liste du 3eme élément à la fin de la liste est : \",liste[2:])"
   ]
  },
  {
   "cell_type": "code",
   "execution_count": null,
   "id": "33acad6f",
   "metadata": {},
   "outputs": [],
   "source": []
  },
  {
   "cell_type": "code",
   "execution_count": null,
   "id": "b73d14ab",
   "metadata": {},
   "outputs": [],
   "source": []
  }
 ],
 "metadata": {
  "kernelspec": {
   "display_name": "Python 3",
   "language": "python",
   "name": "python3"
  },
  "language_info": {
   "codemirror_mode": {
    "name": "ipython",
    "version": 3
   },
   "file_extension": ".py",
   "mimetype": "text/x-python",
   "name": "python",
   "nbconvert_exporter": "python",
   "pygments_lexer": "ipython3",
   "version": "3.8.8"
  }
 },
 "nbformat": 4,
 "nbformat_minor": 5
}
